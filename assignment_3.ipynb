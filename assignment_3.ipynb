{
 "cells": [
  {
   "cell_type": "markdown",
   "source": [
    "# Use Langchain to implement RAG\n",
    "First you implement the most basic RAG system possible using Langchain. When the defaults work, you make some adjustments to better control the output of the RAG system. \n",
    "\n",
    "## The basic RAG using defaults\n",
    "You need an LLM and a Retriever. You can choose OpenAI and Weaviate or alternatives. Use the Langchain wrappers to initialise them."
   ],
   "metadata": {
    "collapsed": false
   },
   "id": "ee2ad17b43ec11a0"
  },
  {
   "cell_type": "code",
   "execution_count": null,
   "outputs": [],
   "source": [
    "# TODO: Implement the retriever through the vector store.\n",
    "\n",
    "from langchain import OpenAI\n",
    "from langchain.chains import RetrievalQA\n",
    "\n",
    "from langchain.vectorstores import Weaviate\n",
    "\n",
    "llm = None\n",
    "retriever = Weaviate(\n",
    "    client=None,\n",
    "    embedding=None,\n",
    "    index_name=\"TODO\",\n",
    "    text_key=\"text\",\n",
    "    by_text=False\n",
    ")\n",
    "\n",
    "             "
   ],
   "metadata": {
    "collapsed": false
   },
   "id": "bf83616c6f115e91"
  },
  {
   "cell_type": "code",
   "execution_count": null,
   "outputs": [],
   "source": [
    "# TODO: Implement the chain using Chroma or Weaviate\n",
    "\n",
    "question_answer_chain = RetrievalQA"
   ],
   "metadata": {
    "collapsed": false
   },
   "id": "e46744ca3fb8066a"
  },
  {
   "cell_type": "code",
   "execution_count": null,
   "outputs": [],
   "source": [
    "query=\"\"\n",
    "print(question_answer_chain.run(query))"
   ],
   "metadata": {
    "collapsed": false
   },
   "id": "a174adf852b12924"
  },
  {
   "cell_type": "code",
   "execution_count": null,
   "outputs": [],
   "source": [
    "# TODO: Experiment with more questions\n",
    "# TODO: Experiment with different prompts"
   ],
   "metadata": {
    "collapsed": false
   },
   "id": "9d40911bb4ee1f37"
  },
  {
   "cell_type": "markdown",
   "source": [
    "## Replacing the defaults\n",
    "You have used most of the defaults. Still you can configure the different components using the same structure."
   ],
   "metadata": {
    "collapsed": false
   },
   "id": "6df45661f88e8f36"
  },
  {
   "cell_type": "markdown",
   "source": [
    "This one can be a bit tricky. You need to check the documents that were used to generate the answer. There is an option to also return the source documents. On which component would you add that option? Make the change so that the following block runs without errors."
   ],
   "metadata": {
    "collapsed": false
   },
   "id": "10623c00c8847bb6"
  },
  {
   "cell_type": "code",
   "execution_count": null,
   "outputs": [],
   "source": [
    "# TODO change the previous code blocks in such a way that the next code blocks runs without errors and shows the result as well as the source documents.\n",
    "\n",
    "query=\"How many proposals are received, and how many proposals can be accepted?\"\n",
    "response = question_answer_chain({\"query\": query})\n",
    "\n",
    "print(response[\"result\"])\n",
    "print(\"--------------\")\n",
    "print(\"The source documents\")\n",
    "for doc in response[\"source_documents\"]: \n",
    "    print(doc.page_content)\n",
    "    print(\"-----\")\n"
   ],
   "metadata": {
    "collapsed": false
   },
   "id": "d5ab1af4b6a17e14"
  },
  {
   "cell_type": "markdown",
   "source": [
    "Next you want to be friendly to non-native english speakers and make it possible to return the answers in another language. Change the prompt in such a way that the result will be printed in Dutch."
   ],
   "metadata": {
    "collapsed": false
   },
   "id": "e6758a5a664e0d5b"
  },
  {
   "cell_type": "code",
   "execution_count": null,
   "outputs": [],
   "source": [
    "# TODO Adjust the prompt in such a way that the result is in another language.\n",
    "\n",
    "from langchain import PromptTemplate, OpenAI\n",
    "\n",
    "prompt_template = \"\"\"\n",
    "\n",
    "    {context}\n",
    "\n",
    "    Question: {question}:\"\"\"\n",
    "\n",
    "custom_prompt = PromptTemplate(\n",
    "    template=prompt_template, input_variables=[\"context\", \"question\"]\n",
    ")\n"
   ],
   "metadata": {
    "collapsed": false
   },
   "id": "initial_id"
  },
  {
   "cell_type": "code",
   "execution_count": null,
   "outputs": [],
   "source": [],
   "metadata": {
    "collapsed": false
   },
   "id": "466281044a4039e4"
  }
 ],
 "metadata": {
  "kernelspec": {
   "display_name": "Python 3",
   "language": "python",
   "name": "python3"
  },
  "language_info": {
   "codemirror_mode": {
    "name": "ipython",
    "version": 2
   },
   "file_extension": ".py",
   "mimetype": "text/x-python",
   "name": "python",
   "nbconvert_exporter": "python",
   "pygments_lexer": "ipython2",
   "version": "2.7.6"
  }
 },
 "nbformat": 4,
 "nbformat_minor": 5
}
